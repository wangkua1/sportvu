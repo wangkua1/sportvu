{
 "cells": [
  {
   "cell_type": "code",
   "execution_count": 1,
   "metadata": {
    "collapsed": true
   },
   "outputs": [],
   "source": [
    "import numpy as np\n",
    "import sportvu\n",
    "import os\n",
    "import pandas\n",
    "from os.path import join\n",
    "from sportvu.vis.Event import Event, EventException\n",
    "import cPickle as pickle\n",
    "import matplotlib.pyplot as plt\n",
    "%matplotlib inline"
   ]
  },
  {
   "cell_type": "code",
   "execution_count": 2,
   "metadata": {},
   "outputs": [
    {
     "name": "stdout",
     "output_type": "stream",
     "text": [
      "['gamedate', 'gameid', 'events']\n"
     ]
    }
   ],
   "source": [
    "data_dir = '/home/ethanf/gobi5/ethanf/data/nba/'\n",
    "f_data_config = '/home/ethanf/gobi5/ethanf/projects/sportvu/sportvu/data/config/ethanf_seq.yaml'\n",
    "files = os.listdir(join(data_dir,'data'))\n",
    "example = pickle.load(open(join(data_dir,'data','0021500357.pkl'),'r'))\n",
    "print example.keys()\n",
    "events = example['events']"
   ]
  },
  {
   "cell_type": "code",
   "execution_count": 3,
   "metadata": {
    "collapsed": true
   },
   "outputs": [],
   "source": [
    "from sportvu.data.dataset import SeqDataset\n",
    "from sportvu.data.extractor import BaseExtractor, EthanSeqExtractor\n",
    "from sportvu.data.loader import BaseLoader\n"
   ]
  },
  {
   "cell_type": "code",
   "execution_count": 4,
   "metadata": {},
   "outputs": [],
   "source": [
    "dataset = SeqDataset(f_data_config)\n",
    "extractor = EthanSeqExtractor(f_data_config)\n",
    "\n",
    "e = Event(events[0], gameid=example['gameid'])"
   ]
  },
  {
   "cell_type": "code",
   "execution_count": null,
   "metadata": {
    "collapsed": true
   },
   "outputs": [],
   "source": [
    "val2 = []\n",
    "for e in dataset.get_next_val():\n",
    "    val2.append(e)"
   ]
  },
  {
   "cell_type": "code",
   "execution_count": null,
   "metadata": {},
   "outputs": [],
   "source": [
    "e = dataset.propose_Ta()\n",
    "e"
   ]
  },
  {
   "cell_type": "code",
   "execution_count": null,
   "metadata": {},
   "outputs": [],
   "source": [
    "extracted = extractor.extract_raw(e,sorted=True)\n",
    "np.array(extracted[0]).shape"
   ]
  },
  {
   "cell_type": "code",
   "execution_count": null,
   "metadata": {},
   "outputs": [],
   "source": []
  },
  {
   "cell_type": "code",
   "execution_count": null,
   "metadata": {},
   "outputs": [],
   "source": [
    "event_arr = [Event(events[i], gameid=example['gameid']) for i in range(5)]\n",
    "print event_arr"
   ]
  },
  {
   "cell_type": "code",
   "execution_count": null,
   "metadata": {
    "collapsed": true
   },
   "outputs": [],
   "source": [
    "seq = extractor.extract_batch(event_arr)"
   ]
  },
  {
   "cell_type": "code",
   "execution_count": 20,
   "metadata": {},
   "outputs": [
    {
     "name": "stdout",
     "output_type": "stream",
     "text": [
      "1 jumps detected. Min dist = 35191.2673205\n",
      "1 jumps detected. Min dist = 6800.90323734\n",
      "1 jumps detected. Min dist = 3855.92640576\n",
      "4 jumps detected. Min dist = 10.0019199266\n"
     ]
    }
   ],
   "source": [
    "events = [dataset.propose_Ta(train=True,return_Event=True) for i in range(5)]\n",
    "inputs, labels, masks = extractor.extract_batch(events)"
   ]
  },
  {
   "cell_type": "code",
   "execution_count": null,
   "metadata": {},
   "outputs": [],
   "source": [
    "events[0]"
   ]
  },
  {
   "cell_type": "code",
   "execution_count": null,
   "metadata": {},
   "outputs": [],
   "source": [
    "plt.plot(inputs[0,0,:,0],inputs[0,0,:,1],'kd')\n",
    "plt.hold(True)\n",
    "plt.plot(labels[0,0,:,0],labels[0,0,:,1],'.-r')\n"
   ]
  },
  {
   "cell_type": "code",
   "execution_count": null,
   "metadata": {},
   "outputs": [],
   "source": [
    "temp = np.array([np.array(x) for x in extractor.extract_raw(e)])\n",
    "print temp.shape\n",
    "print np.array(temp[0]).shape\n",
    "print np.array(temp[1]).shape\n",
    "print np.array(temp[2]).shape\n",
    "plt.plot(temp[0][0,:10,0],temp[0][0,:10,1],'*-')\n",
    "plt.hold(True)\n",
    "for i in range(5):\n",
    "    plt.plot(temp[1][i,:10,0],temp[1][i,:10,1])\n",
    "for i in range(5):\n",
    "    plt.plot(temp[2][i,:10,0],temp[2][i,:10,1])\n",
    "        "
   ]
  },
  {
   "cell_type": "code",
   "execution_count": null,
   "metadata": {
    "collapsed": true
   },
   "outputs": [],
   "source": [
    "print seq.shape\n",
    "print masks.shape"
   ]
  },
  {
   "cell_type": "code",
   "execution_count": null,
   "metadata": {
    "collapsed": true
   },
   "outputs": [],
   "source": [
    "masks[0,:]"
   ]
  },
  {
   "cell_type": "code",
   "execution_count": null,
   "metadata": {},
   "outputs": [],
   "source": [
    "temp = [[0,1],[2,3],[4,5]]\n",
    "a,b = zip(*temp)\n",
    "print a"
   ]
  },
  {
   "cell_type": "code",
   "execution_count": null,
   "metadata": {},
   "outputs": [],
   "source": [
    "dist = []\n",
    "e_ = [events[0]]\n",
    "for e in e_:\n",
    "    for i in range(len(e.moments)-1):\n",
    "        x1 = np.array([player.x for player in e.moments[i].players])\n",
    "        y1 = np.array([player.y for player in e.moments[i].players])\n",
    "        x2 = np.array([player.x for player in e.moments[i+1].players])\n",
    "        y2 = np.array([player.y for player in e.moments[i+1].players])\n",
    "        dist.append((x1-x2)**2 +(y1-y2)**2)"
   ]
  },
  {
   "cell_type": "code",
   "execution_count": null,
   "metadata": {},
   "outputs": [],
   "source": [
    "dist = np.array(dist).sum(axis=1)\n",
    "sorted(dist)\n"
   ]
  },
  {
   "cell_type": "code",
   "execution_count": null,
   "metadata": {},
   "outputs": [],
   "source": [
    "e"
   ]
  },
  {
   "cell_type": "code",
   "execution_count": null,
   "metadata": {},
   "outputs": [],
   "source": [
    "dist = np.sort(dist)\n",
    "plt.plot(np.log(dist))\n"
   ]
  },
  {
   "cell_type": "code",
   "execution_count": null,
   "metadata": {
    "collapsed": true
   },
   "outputs": [],
   "source": [
    "extractor.thresh"
   ]
  },
  {
   "cell_type": "code",
   "execution_count": null,
   "metadata": {
    "collapsed": true
   },
   "outputs": [],
   "source": [
    "import matplotlib.pyplot as plt\n",
    "plt.plot(dist)\n",
    "plt.show()"
   ]
  },
  {
   "cell_type": "code",
   "execution_count": null,
   "metadata": {},
   "outputs": [],
   "source": [
    "seq = [np.random.randn(10,22,10),[],np.random.randn(10,22,10)]\n",
    "np.array(seq).shape"
   ]
  }
 ],
 "metadata": {
  "kernelspec": {
   "display_name": "Python 2",
   "language": "python",
   "name": "python2"
  },
  "language_info": {
   "codemirror_mode": {
    "name": "ipython",
    "version": 2
   },
   "file_extension": ".py",
   "mimetype": "text/x-python",
   "name": "python",
   "nbconvert_exporter": "python",
   "pygments_lexer": "ipython2",
   "version": "2.7.12"
  }
 },
 "nbformat": 4,
 "nbformat_minor": 2
}
